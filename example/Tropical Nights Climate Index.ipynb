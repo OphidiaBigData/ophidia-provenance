{
 "cells": [
  {
   "cell_type": "markdown",
   "id": "90ec9f2a",
   "metadata": {},
   "source": [
    "# Compute the Tropical Nights Climate Index\n",
    "\n",
    "This notebook computes the **Tropical Nights index**: starting from the daily minimum temperature TN,\n",
    "the Tropical Nights index is the number of days where $TN > T$ (T is  a reference temperature, e.g. 20°C)"
   ]
  },
  {
   "cell_type": "markdown",
   "id": "d36293a9",
   "metadata": {},
   "source": [
    "As first step, let's connect to the Ophidia server instance"
   ]
  },
  {
   "cell_type": "code",
   "execution_count": null,
   "id": "8f5170ed",
   "metadata": {},
   "outputs": [],
   "source": [
    "from os.path import expanduser\n",
    "home = expanduser(\"~\")\n",
    "from PyOphidia import cube\n",
    "cube.Cube.setclient(read_env=True)"
   ]
  },
  {
   "cell_type": "markdown",
   "id": "e9d4b847",
   "metadata": {},
   "source": [
    "Import the input NetCDF data set (with minimum temperature in °K)"
   ]
  },
  {
   "cell_type": "code",
   "execution_count": null,
   "id": "00a0e304-b71f-452c-a425-fe73041e775c",
   "metadata": {},
   "outputs": [],
   "source": [
    "mintemp = cube.Cube.importnc2(src_path=\"/public/data/tasmin_day_CMCC-ESM2_ssp585_r1i1p1f1_gn_20900101-21001231.nc\",\n",
    "    measure='tasmin',\n",
    "    #import_metadata='yes',\n",
    "    imp_dim='time',\n",
    "    imp_concept_level='d', vocabulary='CF',hierarchy='oph_base|oph_base|oph_time',\n",
    "    ncores=4,\n",
    "    nfrag=4,\n",
    "    description='Daily Min Temp'\n",
    ")"
   ]
  },
  {
   "cell_type": "markdown",
   "id": "1f04e397",
   "metadata": {},
   "source": [
    "Identify the tropical nights: $\\{day \\mid TN(day) > 293.15\\}$  with apply (we are basically creating a mask)"
   ]
  },
  {
   "cell_type": "code",
   "execution_count": null,
   "id": "2cbe2014-858a-438a-92a1-d193aacdc6a4",
   "metadata": {},
   "outputs": [],
   "source": [
    "tropicalnights = mintemp.apply(\n",
    "    query=\"oph_predicate('OPH_FLOAT','OPH_INT',measure,'x-293.15','>0','1','0')\"\n",
    ")"
   ]
  },
  {
   "cell_type": "markdown",
   "id": "2e19e894",
   "metadata": {},
   "source": [
    "Count the number of yearly tropical nights"
   ]
  },
  {
   "cell_type": "code",
   "execution_count": null,
   "id": "31b5857c-b81b-44b3-906c-40fd669ed151",
   "metadata": {},
   "outputs": [],
   "source": [
    "count = tropicalnights.reduce2(\n",
    "    operation='sum',\n",
    "    dim='time',\n",
    "    concept_level='y'\n",
    ")"
   ]
  },
  {
   "cell_type": "markdown",
   "id": "837d0350",
   "metadata": {},
   "source": [
    "Export the result to a NetCDF file"
   ]
  },
  {
   "cell_type": "code",
   "execution_count": null,
   "id": "c5c8df9f-d0ae-418a-9190-370d21d9197f",
   "metadata": {},
   "outputs": [],
   "source": [
    "count.exportnc2(\n",
    "    output_path=home,\n",
    "    output_name=\"Tropical_Nights_2090-2100\"\n",
    ")"
   ]
  }
 ],
 "metadata": {
  "kernelspec": {
   "display_name": "Python 3 (ipykernel)",
   "language": "python",
   "name": "python3"
  },
  "language_info": {
   "codemirror_mode": {
    "name": "ipython",
    "version": 3
   },
   "file_extension": ".py",
   "mimetype": "text/x-python",
   "name": "python",
   "nbconvert_exporter": "python",
   "pygments_lexer": "ipython3",
   "version": "3.9.7"
  }
 },
 "nbformat": 4,
 "nbformat_minor": 5
}
